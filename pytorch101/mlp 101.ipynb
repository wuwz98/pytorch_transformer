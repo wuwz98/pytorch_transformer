{
 "cells": [
  {
   "cell_type": "markdown",
   "source": [
    "# MLP 101\n",
    "\n",
    "拟合y = 2x + 1函数，直接使用python数组实现\n",
    "\n",
    "w,b被初始化为0，loss使用MSE"
   ],
   "metadata": {
    "collapsed": false
   },
   "id": "be7fdea4de0d1739"
  },
  {
   "cell_type": "markdown",
   "source": [
    "## Python implementation"
   ],
   "metadata": {
    "collapsed": false
   },
   "id": "31c4f66c77280a2f"
  },
  {
   "cell_type": "code",
   "outputs": [
    {
     "name": "stdout",
     "output_type": "stream",
     "text": [
      "step 0: pred = 0.000, w=0.000, b=0.000, Loss=9.000\n",
      "step 0: dL_dL = 1, dL_dpred = -6.000, dL_dw=-6.000, dL_db=-6.000\n",
      "\n",
      "step 1: pred = 1.200, w=0.600, b=0.600, Loss=3.240\n",
      "step 1: dL_dL = 1, dL_dpred = -3.600, dL_dw=-3.600, dL_db=-3.600\n",
      "\n",
      "step 2: pred = 1.920, w=0.960, b=0.960, Loss=1.166\n",
      "step 2: dL_dL = 1, dL_dpred = -2.160, dL_dw=-2.160, dL_db=-2.160\n",
      "\n",
      "step 3: pred = 2.352, w=1.176, b=1.176, Loss=0.420\n",
      "step 3: dL_dL = 1, dL_dpred = -1.296, dL_dw=-1.296, dL_db=-1.296\n",
      "\n",
      "step 4: pred = 2.611, w=1.306, b=1.306, Loss=0.151\n",
      "step 4: dL_dL = 1, dL_dpred = -0.778, dL_dw=-0.778, dL_db=-0.778\n",
      "\n",
      "step 5: pred = 2.767, w=1.383, b=1.383, Loss=0.054\n",
      "step 5: dL_dL = 1, dL_dpred = -0.467, dL_dw=-0.467, dL_db=-0.467\n",
      "\n",
      "step 6: pred = 2.860, w=1.430, b=1.430, Loss=0.020\n",
      "step 6: dL_dL = 1, dL_dpred = -0.280, dL_dw=-0.280, dL_db=-0.280\n",
      "\n",
      "step 7: pred = 2.916, w=1.458, b=1.458, Loss=0.007\n",
      "step 7: dL_dL = 1, dL_dpred = -0.168, dL_dw=-0.168, dL_db=-0.168\n",
      "\n",
      "step 8: pred = 2.950, w=1.475, b=1.475, Loss=0.003\n",
      "step 8: dL_dL = 1, dL_dpred = -0.101, dL_dw=-0.101, dL_db=-0.101\n",
      "\n",
      "step 9: pred = 2.970, w=1.485, b=1.485, Loss=0.001\n",
      "step 9: dL_dL = 1, dL_dpred = -0.060, dL_dw=-0.060, dL_db=-0.060\n"
     ]
    }
   ],
   "source": [
    "x = 1\n",
    "y = 3\n",
    "w = 0\n",
    "b = 0\n",
    "\n",
    "lr = 0.1\n",
    "\n",
    "preds = []\n",
    "ls = []\n",
    "ws = []\n",
    "bs = []\n",
    "\n",
    "for _ in range(10):\n",
    "    wx = w*x\n",
    "    pred = wx + b\n",
    "    Loss = (pred - y) ** 2\n",
    "    print(f\"step {_}: pred = {pred:.3f}, w={w:.3f}, b={b:.3f}, Loss={Loss:.3f}\")\n",
    "\n",
    "    dL_dpred = 2*(pred - y)\n",
    "    dpred_db = 1\n",
    "    dpred_dw = x\n",
    "    dL_db = dL_dpred * dpred_db\n",
    "    dL_dw = dL_dpred * dpred_dw\n",
    "    print(f\"step {_}: dL_dL = 1, dL_dpred = {dL_dpred:.3f}, dL_dw={dL_dw:.3f}, dL_db={dL_db:.3f}\\n\")\n",
    "    \n",
    "    preds.append(pred)\n",
    "    ls.append(Loss)\n",
    "    ws.append(w)\n",
    "    bs.append(b)\n",
    "    \n",
    "    w = w - lr * dL_dw\n",
    "    b = b - lr * dL_db\n"
   ],
   "metadata": {
    "collapsed": false,
    "ExecuteTime": {
     "end_time": "2024-07-13T04:38:36.789637Z",
     "start_time": "2024-07-13T04:38:36.782265Z"
    }
   },
   "id": "6b782366c0c565f2",
   "execution_count": 13
  },
  {
   "cell_type": "markdown",
   "source": [
    "## PyTorch implementation"
   ],
   "metadata": {
    "collapsed": false
   },
   "id": "1553d07e05c5a9f"
  },
  {
   "cell_type": "code",
   "outputs": [
    {
     "name": "stdout",
     "output_type": "stream",
     "text": [
      "step 0: pred = 0.000, w=0.000, b=0.000, Loss=9.000\n",
      "step 0: dL_dpred = -6.000, dL_dw=-6.000, dL_db=-6.000\n",
      "\n",
      "step 1: pred = 1.200, w=0.600, b=0.600, Loss=3.240\n",
      "step 1: dL_dpred = -3.600, dL_dw=-3.600, dL_db=-3.600\n",
      "\n",
      "step 2: pred = 1.920, w=0.960, b=0.960, Loss=1.166\n",
      "step 2: dL_dpred = -2.160, dL_dw=-2.160, dL_db=-2.160\n",
      "\n",
      "step 3: pred = 2.352, w=1.176, b=1.176, Loss=0.420\n",
      "step 3: dL_dpred = -1.296, dL_dw=-1.296, dL_db=-1.296\n",
      "\n",
      "step 4: pred = 2.611, w=1.306, b=1.306, Loss=0.151\n",
      "step 4: dL_dpred = -0.778, dL_dw=-0.778, dL_db=-0.778\n",
      "\n",
      "step 5: pred = 2.767, w=1.383, b=1.383, Loss=0.054\n",
      "step 5: dL_dpred = -0.467, dL_dw=-0.467, dL_db=-0.467\n",
      "\n",
      "step 6: pred = 2.860, w=1.430, b=1.430, Loss=0.020\n",
      "step 6: dL_dpred = -0.280, dL_dw=-0.280, dL_db=-0.280\n",
      "\n",
      "step 7: pred = 2.916, w=1.458, b=1.458, Loss=0.007\n",
      "step 7: dL_dpred = -0.168, dL_dw=-0.168, dL_db=-0.168\n",
      "\n",
      "step 8: pred = 2.950, w=1.475, b=1.475, Loss=0.003\n",
      "step 8: dL_dpred = -0.101, dL_dw=-0.101, dL_db=-0.101\n",
      "\n",
      "step 9: pred = 2.970, w=1.485, b=1.485, Loss=0.001\n",
      "step 9: dL_dpred = -0.060, dL_dw=-0.060, dL_db=-0.060\n"
     ]
    }
   ],
   "source": [
    "import torch\n",
    "\n",
    "x = torch.tensor(1.0)\n",
    "y = torch.tensor(3.0)\n",
    "w = torch.tensor(0.0, requires_grad=True)\n",
    "b = torch.tensor(0.0, requires_grad=True)\n",
    "\n",
    "optimizer = torch.optim.SGD([w, b], lr=0.1)\n",
    "\n",
    "preds = []\n",
    "ls = []\n",
    "ws = []\n",
    "bs = []\n",
    "\n",
    "for i in range(10):\n",
    "    wx = w * x\n",
    "    pred = wx + b\n",
    "    loss = (pred - y) ** 2\n",
    "    \n",
    "    print(f\"step {i}: pred = {pred.item():.3f}, w={w.item():.3f}, b={b.item():.3f}, Loss={loss.item():.3f}\")\n",
    "    \n",
    "    optimizer.zero_grad()\n",
    "    loss.backward()\n",
    "    optimizer.step()\n",
    "    \n",
    "    print(f\"step {i}: dL_dpred = {2 * (pred - y).item():.3f}, dL_dw={w.grad.item():.3f}, dL_db={b.grad.item():.3f}\\n\")\n",
    "    \n",
    "    preds.append(pred.item())\n",
    "    ls.append(loss.item())\n",
    "    ws.append(w.item())\n",
    "    bs.append(b.item())\n"
   ],
   "metadata": {
    "collapsed": false,
    "ExecuteTime": {
     "end_time": "2024-07-13T04:56:34.775963Z",
     "start_time": "2024-07-13T04:56:34.761100Z"
    }
   },
   "id": "dfeb1b5f21c2c71d",
   "execution_count": 2
  },
  {
   "cell_type": "code",
   "outputs": [
    {
     "name": "stdout",
     "output_type": "stream",
     "text": [
      "Tensor data: tensor([[1., 2., 3.],\n",
      "        [4., 5., 6.]])\n",
      "Tensor shape: torch.Size([2, 3])\n",
      "Tensor dtype: torch.float32\n",
      "Tensor device: cpu\n",
      "Tensor requires_grad: False\n",
      "Tensor requires_grad v2: True\n",
      "Gradient of tensor before op: None\n",
      "tensor(21., grad_fn=<SumBackward0>)\n",
      "Gradient of tensor after op: None\n"
     ]
    }
   ],
   "source": [
    "import torch\n",
    "\n",
    "tensor = torch.tensor([[1.0, 2.0, 3.0], [4.0, 5.0, 6.0]])\n",
    "\n",
    "print(\"Tensor data:\", tensor.data)\n",
    "print(\"Tensor shape:\", tensor.shape)\n",
    "print(\"Tensor dtype:\", tensor.dtype)\n",
    "print(\"Tensor device:\", tensor.device)\n",
    "print(\"Tensor requires_grad:\", tensor.requires_grad)\n",
    "\n",
    "tensor.requires_grad_(True)\n",
    "print(\"Tensor requires_grad v2:\", tensor.requires_grad)\n",
    "\n",
    "print(\"Gradient of tensor before op:\", tensor.grad)\n",
    "result = tensor.sum()\n",
    "print(result)\n",
    "print(\"Gradient of tensor after op:\", tensor.grad)"
   ],
   "metadata": {
    "collapsed": false,
    "ExecuteTime": {
     "end_time": "2024-07-13T13:40:49.602870Z",
     "start_time": "2024-07-13T13:40:49.460422Z"
    }
   },
   "id": "b36c2bdec031fce7",
   "execution_count": 17
  }
 ],
 "metadata": {
  "kernelspec": {
   "display_name": "Python 3",
   "language": "python",
   "name": "python3"
  },
  "language_info": {
   "codemirror_mode": {
    "name": "ipython",
    "version": 2
   },
   "file_extension": ".py",
   "mimetype": "text/x-python",
   "name": "python",
   "nbconvert_exporter": "python",
   "pygments_lexer": "ipython2",
   "version": "2.7.6"
  }
 },
 "nbformat": 4,
 "nbformat_minor": 5
}
